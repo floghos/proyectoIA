{
 "cells": [
  {
   "cell_type": "markdown",
   "id": "b56ab1b2",
   "metadata": {},
   "source": [
    "# Simulating keyboard input with pynput and threads\n",
    "\n",
    "### Importing libraries"
   ]
  },
  {
   "cell_type": "code",
   "execution_count": 1,
   "id": "c0502a53",
   "metadata": {},
   "outputs": [],
   "source": [
    "import threading\n",
    "from pynput.keyboard import Controller, Listener , Key\n",
    "# import time"
   ]
  },
  {
   "cell_type": "markdown",
   "id": "add5d53b",
   "metadata": {},
   "source": [
    "### Defining variables and dictionary for testing "
   ]
  },
  {
   "cell_type": "code",
   "execution_count": 2,
   "id": "d8e9f482",
   "metadata": {},
   "outputs": [],
   "source": [
    "kb = Controller()\n",
    "key_convert = {'w':'r', 'a':'m', 's':'7', 'd':'p', 'g':'z', 'h':'q', 'j':'l'}\n",
    "\n",
    "delay = 0"
   ]
  },
  {
   "cell_type": "markdown",
   "id": "47ed1bf6",
   "metadata": {},
   "source": [
    "### Defining functions\n",
    "#### For the listener:"
   ]
  },
  {
   "cell_type": "code",
   "execution_count": 3,
   "id": "c81d0c7f",
   "metadata": {},
   "outputs": [],
   "source": [
    "# The listener will just create a thread that will handle the keypress\n",
    "def on_press(key):\n",
    "    #do stuff\n",
    "    x = threading.Thread(target=t_press, args=(key,))\n",
    "    x.start()\n",
    "    \n",
    "def on_release(key):\n",
    "    #do other stuff\n",
    "    if key != Key.esc:\n",
    "        x = threading.Thread(target=t_release, args=(key,))\n",
    "        x.start()\n",
    "    else:\n",
    "        #stop listener\n",
    "        return False\n",
    "        "
   ]
  },
  {
   "cell_type": "markdown",
   "id": "b2481cb3",
   "metadata": {},
   "source": [
    "#### For the threads:"
   ]
  },
  {
   "cell_type": "code",
   "execution_count": 4,
   "id": "c9363a41",
   "metadata": {},
   "outputs": [],
   "source": [
    "def t_press(key):\n",
    "    # time.sleep(delay)\n",
    "    k = str(key) #converting the \"key\" object to a string\n",
    "    k = k.replace(\"'\", \"\") #cleaning the \"k\" string\n",
    "    if k in key_convert.keys():\n",
    "        kb.press(key_convert[k])\n",
    "        # print(\"converting to: \", key_convert[k])\n",
    "\n",
    "def t_release(key):\n",
    "    # time.sleep(delay)\n",
    "    k = str(key)\n",
    "    k = k.replace(\"'\", \"\")\n",
    "    if k in key_convert.keys():\n",
    "        kb.release(key_convert[k])\n",
    "    # print(\"releasing \", key)\n",
    "    "
   ]
  },
  {
   "cell_type": "markdown",
   "id": "f2bbb6c0",
   "metadata": {},
   "source": [
    "## Main script"
   ]
  },
  {
   "cell_type": "code",
   "execution_count": 5,
   "id": "81717b39",
   "metadata": {},
   "outputs": [],
   "source": [
    "if __name__ == \"__main__\":   \n",
    "    with Listener(\n",
    "            on_press=on_press,\n",
    "            on_release=on_release) as listener:\n",
    "        listener.join()\n",
    "    "
   ]
  },
  {
   "cell_type": "code",
   "execution_count": null,
   "id": "83f5214b",
   "metadata": {},
   "outputs": [],
   "source": []
  }
 ],
 "metadata": {
  "kernelspec": {
   "display_name": "Python 3",
   "language": "python",
   "name": "python3"
  },
  "language_info": {
   "codemirror_mode": {
    "name": "ipython",
    "version": 3
   },
   "file_extension": ".py",
   "mimetype": "text/x-python",
   "name": "python",
   "nbconvert_exporter": "python",
   "pygments_lexer": "ipython3",
   "version": "3.8.5"
  }
 },
 "nbformat": 4,
 "nbformat_minor": 5
}
