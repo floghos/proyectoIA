{
 "cells": [
  {
   "cell_type": "markdown",
   "id": "fb89a9f8",
   "metadata": {},
   "source": [
    "# Testing screencapture with different libraries\n",
    "   (openCV, PyAutoGUI, Pillow, PyWin32)\n",
    "    \n",
    "### References:\n",
    "Screen capture:\n",
    "* https://stackoverflow.com/questions/24129253/screen-capture-with-opencv-and-python-2-7\n",
    "* https://www.youtube.com/watch?v=WymCpVUPWQ4&ab_channel=LearnCodeByGaming\n",
    "* https://www.youtube.com/watch?v=ks4MPfMq8aQ&ab_channel=sentdex\n",
    "* https://stackoverflow.com/questions/3586046/fastest-way-to-take-a-screenshot-with-python-on-windows\n",
    "* https://stackoverflow.com/questions/41785831/how-to-optimize-conversion-from-pycbitmap-to-opencv-image\n",
    "\n",
    "Window listing:\n",
    "* https://stackoverflow.com/questions/55547940/how-to-get-a-list-of-the-name-of-every-open-window"
   ]
  },
  {
   "cell_type": "markdown",
   "id": "1bff4572",
   "metadata": {},
   "source": [
    "### Importing Libraries\n",
    "Note: Original PIL (Python Imaging Library) was discontinued since 2011, with Pillow taking it's place."
   ]
  },
  {
   "cell_type": "code",
   "execution_count": null,
   "id": "ea86a413",
   "metadata": {},
   "outputs": [],
   "source": []
  },
  {
   "cell_type": "code",
   "execution_count": 32,
   "id": "57854495",
   "metadata": {},
   "outputs": [],
   "source": [
    "import cv2 as cv\n",
    "import numpy as np\n",
    "from time import time\n",
    "img_counter = 0\n",
    "#import pyautogui # needs to be installed first\n",
    "#from mms import mms # needs to be installed first\n",
    "\n"
   ]
  },
  {
   "cell_type": "markdown",
   "id": "161125d2",
   "metadata": {},
   "source": [
    "### Main Loop (With Pillow):"
   ]
  },
  {
   "cell_type": "code",
   "execution_count": 7,
   "id": "08348e13",
   "metadata": {},
   "outputs": [
    {
     "name": "stdout",
     "output_type": "stream",
     "text": [
      "Avg FPS 6.604859904918327\n",
      "Avg FPS 10.68076658709789\n",
      "Avg FPS 10.169758579549848\n",
      "Avg FPS 10.721239239163515\n",
      "Avg FPS 11.35425313291984\n",
      "Avg FPS 11.42257305091403\n",
      "Avg FPS 11.745121064082841\n",
      "Avg FPS 12.146313617867415\n",
      "Avg FPS 12.33592638184569\n",
      "Avg FPS 12.669021078842169\n",
      "Avg FPS 12.74570405230562\n",
      "Avg FPS 12.567518784835954\n",
      "Avg FPS 12.655392543921662\n",
      "Avg FPS 12.863189556783851\n",
      "Avg FPS 13.050101809785627\n",
      "Avg FPS 13.204813507720235\n",
      "Avg FPS 13.30767047283291\n",
      "Avg FPS 13.400300124071364\n",
      "Avg FPS 13.372802932184001\n",
      "Avg FPS 13.419131028557747\n",
      "Avg FPS 13.368081109104859\n",
      "Avg FPS 13.46838563304528\n",
      "Avg FPS 13.585668293515857\n",
      "Avg FPS 13.591906238482062\n",
      "Avg FPS 13.66121724487637\n",
      "Avg FPS 13.787420700814218\n",
      "Avg FPS 13.849459669593072\n",
      "Avg FPS 13.931225059930009\n",
      "Avg FPS 13.991630503242279\n",
      "Avg FPS 14.002190756189679\n",
      "Avg FPS 13.992745400312648\n",
      "Avg FPS 13.969740392297867\n",
      "Avg FPS 13.97255074340797\n",
      "Avg FPS 13.980121088016618\n",
      "Avg FPS 14.019511916751648\n",
      "Avg FPS 13.95122140781015\n",
      "Avg FPS 13.968091047233782\n",
      "Avg FPS 14.031819230877948\n",
      "Avg FPS 14.079060442901236\n",
      "Avg FPS 14.131024036687577\n",
      "Avg FPS 14.150123167949285\n",
      "Avg FPS 14.126219917755563\n",
      "Avg FPS 14.171710865179236\n",
      "Avg FPS 14.220979098299598\n",
      "Avg FPS 14.258677798524403\n",
      "Avg FPS 14.308913079833419\n",
      "Avg FPS 14.33291324386638\n",
      "Avg FPS 14.370404569913399\n"
     ]
    }
   ],
   "source": [
    "from PIL import ImageGrab   # This is actually Pillow, but it's still imported as PIL. \n",
    "counter = 1\n",
    "total = 0\n",
    "\n",
    "while(True):\n",
    "    prev_time = time()\n",
    "    \n",
    "    #take the screenshot, bbox defines a boundry box for it\n",
    "    #bbox = (0, 0, 320, 240)\n",
    "    bbox = None\n",
    "    img_pil = ImageGrab.grab(bbox)\n",
    "    #transform to an array and reshape it into a matrix for openCV\n",
    "    img_np = np.array(img_pil, dtype='uint8').reshape((img_pil.size[1], img_pil.size[0],3))\n",
    "    \n",
    "    img_np = cv.cvtColor(img_np, cv.COLOR_RGB2BGR)\n",
    "    \n",
    "    cv.imshow('window',img_np)\n",
    "    #print('FPS {}'.format(1 / (time() - prev_time)))\n",
    "    total += 1 / (time() - prev_time)\n",
    "    print('Avg FPS {}'.format(total/counter))\n",
    "    counter += 1\n",
    "    if cv.waitKey(1) & 0xFF == ord('q'):\n",
    "        cv.destroyAllWindows()\n",
    "        break"
   ]
  },
  {
   "cell_type": "markdown",
   "id": "9e34d6a8",
   "metadata": {},
   "source": [
    "#### Pillow results:\n",
    "The framerate seems awfully slow, and reducing the boundry box to ridiculously small sizes barely seems to help."
   ]
  },
  {
   "cell_type": "markdown",
   "id": "99771130",
   "metadata": {},
   "source": [
    "\n",
    "### With Windows API:"
   ]
  },
  {
   "cell_type": "code",
   "execution_count": 53,
   "id": "ee293a21",
   "metadata": {},
   "outputs": [],
   "source": [
    "import win32gui\n",
    "import win32ui\n",
    "import win32con\n",
    "\n",
    "def list_all_open_windows():\n",
    "    def winEnumHandler( hwnd, ctx ):\n",
    "        if win32gui.IsWindowVisible( hwnd ):\n",
    "            print (hex(hwnd), win32gui.GetWindowText( hwnd ))\n",
    "\n",
    "    win32gui.EnumWindows(winEnumHandler, None)\n",
    "\n",
    "#list_all_open_windows()\n",
    "\n",
    "def window_capture():\n",
    "    #w = 1920 # set this\n",
    "    #h = 1080 # set this\n",
    "    bmpfilenamename = \"sample\" + str(img_counter) + \".jpg\" #set this\n",
    "\n",
    "    hwnd = win32gui.FindWindow(None, 'Samurai Gunn')\n",
    "    #hwnd = None\n",
    "    \n",
    "    # Getting the window's size and accounting for window screenshot borders\n",
    "    window_rect = win32gui.GetWindowRect(hwnd)\n",
    "    titlebar_px = 38\n",
    "    border_px = 9\n",
    "    #titlebar_px = 0\n",
    "    #border_px = 0\n",
    "    #print(window_rect)\n",
    "    #w = window_rect[2] - window_rect[0] - (2 * border_px)\n",
    "    #h = window_rect[3] - window_rect[1] - titlebar_px - border_px\n",
    "    #print(h,w)\n",
    "    \n",
    "    # For samurai Gunn, the non-fullscreen dimensions should be:\n",
    "    w = 320\n",
    "    h = 240\n",
    "    \n",
    "    crop_x = border_px\n",
    "    crop_y = titlebar_px\n",
    "    \n",
    "    wDC = win32gui.GetWindowDC(hwnd)\n",
    "    dcObj = win32ui.CreateDCFromHandle(wDC)\n",
    "    cDC = dcObj.CreateCompatibleDC()\n",
    "    dataBitMap = win32ui.CreateBitmap()\n",
    "    dataBitMap.CreateCompatibleBitmap(dcObj, w, h)\n",
    "    cDC.SelectObject(dataBitMap)\n",
    "    cDC.BitBlt((0, 0), (w, h) , dcObj, (crop_x, crop_y), win32con.SRCCOPY)\n",
    "    \n",
    "    # saving screenshot to file\n",
    "    dataBitMap.SaveBitmapFile(cDC, bmpfilenamename)\n",
    "    \n",
    "    # Converting to format useful for opencv\n",
    "    signedIntsArray = dataBitMap.GetBitmapBits(True)\n",
    "    #img = np.fromstring(signedIntsArray, dtype='uint8')\n",
    "    # np.fromstring is deprecated, should use np.frombuffer instead\n",
    "    img = np.frombuffer(signedIntsArray, dtype='uint8')\n",
    "    img.shape = (h, w, 4)\n",
    "\n",
    "    # Free Resources\n",
    "    dcObj.DeleteDC()\n",
    "    cDC.DeleteDC()\n",
    "    win32gui.ReleaseDC(hwnd, wDC)\n",
    "    win32gui.DeleteObject(dataBitMap.GetHandle())\n",
    "    \n",
    "    # Dropping alpha channel may be useful for some applications, like cv.matchTemplate()\n",
    "    # which may throw an error otherwise\n",
    "    #img = img[...,:3]   # this drops alpha channel \n",
    "    \n",
    "    return img\n",
    "\n",
    "window_capture()\n",
    "img_counter += 1"
   ]
  },
  {
   "cell_type": "code",
   "execution_count": 13,
   "id": "71922abd",
   "metadata": {},
   "outputs": [
    {
     "name": "stdout",
     "output_type": "stream",
     "text": [
      "0x30134 \n",
      "0x2037e reading_from_screen - Jupyter Notebook - Google Chrome\n",
      "0x40368 Samurai Gunn\n",
      "0x2037c Calculator\n",
      "0x404ce \n",
      "0x905fc experiments\n",
      "0x60686 Settings\n",
      "0x9069a Settings\n",
      "0x304da Anaconda Prompt (anaconda3)\n",
      "0x803f6 Jupyter Notebook (anaconda3)\n",
      "0x40102 \n",
      "0x10304 Microsoft Text Input Application\n",
      "0x101ec \n",
      "0x101e4 \n",
      "0x101c6 \n",
      "0x101c4 \n",
      "0x2005e NVIDIA GeForce Overlay\n",
      "0xa0596 Steam\n",
      "0x206fc bienvenida-y-reglas - Discord\n",
      "0x20194 Program Manager\n"
     ]
    }
   ],
   "source": [
    "import win32gui\n",
    "# If we need help to figure out the window name, this funcion will list the names of every open window\n",
    "def list_all_open_windows():\n",
    "    def winEnumHandler( hwnd, ctx ):\n",
    "        if win32gui.IsWindowVisible( hwnd ):\n",
    "            print (hex(hwnd), win32gui.GetWindowText( hwnd ))\n",
    "\n",
    "    win32gui.EnumWindows( winEnumHandler, None )\n",
    "\n",
    "list_all_open_windows()"
   ]
  },
  {
   "cell_type": "code",
   "execution_count": 12,
   "id": "1e731f96",
   "metadata": {},
   "outputs": [
    {
     "name": "stdout",
     "output_type": "stream",
     "text": [
      "['Taskbar', 'reading_from_screen - Jupyter Notebook - Google Chrome', 'Samurai Gunn', 'Calculator', 'experiments', 'Anaconda Prompt (anaconda3)', 'Jupyter Notebook (anaconda3)', 'NVIDIA GeForce Overlay', 'Steam', 'bienvenida-y-reglas - Discord', 'Program Manager']\n"
     ]
    }
   ],
   "source": [
    "from pywinauto import Desktop\n",
    "\n",
    "windows = Desktop(backend=\"uia\").windows()\n",
    "print([w.window_text() for w in windows])"
   ]
  },
  {
   "cell_type": "markdown",
   "id": "c3dfae3a",
   "metadata": {},
   "source": [
    "## Main Loop (with pywin32)"
   ]
  },
  {
   "cell_type": "code",
   "execution_count": 18,
   "id": "be9c0e44",
   "metadata": {},
   "outputs": [],
   "source": [
    "counter = 1\n",
    "total = 0\n",
    "\n",
    "while(True):\n",
    "    prev_time = time()\n",
    "    screenshot = window_capture()\n",
    "    img_procesada = procesar(screenshot)\n",
    "    \n",
    "    cv.imshow('Screenshot', screenshot)\n",
    "    #print('FPS {}'.format(1 / (time() - prev_time)))\n",
    "     \n",
    "    #total += 1 / (time() - prev_time)\n",
    "    #print('Avg FPS {}'.format(total/counter))\n",
    "    #counter += 1\n",
    "    \n",
    "    if cv.waitKey(1) & 0xFF == ord('q'):\n",
    "        cv.destroyAllWindows()\n",
    "        break"
   ]
  },
  {
   "cell_type": "markdown",
   "id": "39e81e09",
   "metadata": {},
   "source": [
    "#### pywin32 results:\n",
    "When capturing the fullscreen window, the framerate sees an increase of almost 40% (actually closer to 36.8%, still pretty dam good) compared to using pillow! great news!\n",
    "\n",
    "AAAAND, when capturing the small Samurai Gunn window, it goes to an avg of 44.24 fps! that is almost 200% increase!!!\n",
    "and uhh... after cropping the black borders it went up to an avg of 790 FPS.... yeah, we are good with this."
   ]
  }
 ],
 "metadata": {
  "kernelspec": {
   "display_name": "Python 3",
   "language": "python",
   "name": "python3"
  },
  "language_info": {
   "codemirror_mode": {
    "name": "ipython",
    "version": 3
   },
   "file_extension": ".py",
   "mimetype": "text/x-python",
   "name": "python",
   "nbconvert_exporter": "python",
   "pygments_lexer": "ipython3",
   "version": "3.8.8"
  }
 },
 "nbformat": 4,
 "nbformat_minor": 5
}
