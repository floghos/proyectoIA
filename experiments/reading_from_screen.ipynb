{
 "cells": [
  {
   "cell_type": "markdown",
   "id": "fb89a9f8",
   "metadata": {},
   "source": [
    "# Testing screencapture with different libraries\n",
    "   (openCV, PyAutoGUI, Pillow, PyWin32)\n",
    "    \n",
    "### References:\n",
    "* https://stackoverflow.com/questions/24129253/screen-capture-with-opencv-and-python-2-7\n",
    "* https://www.youtube.com/watch?v=WymCpVUPWQ4&ab_channel=LearnCodeByGaming\n",
    "* https://www.youtube.com/watch?v=ks4MPfMq8aQ&ab_channel=sentdex\n",
    "* https://stackoverflow.com/questions/3586046/fastest-way-to-take-a-screenshot-with-python-on-windows"
   ]
  },
  {
   "cell_type": "markdown",
   "id": "1bff4572",
   "metadata": {},
   "source": [
    "### Importing Libraries\n",
    "Note: Original PIL (Python Imaging Library) was discontinued since 2011, with Pillow taking it's place."
   ]
  },
  {
   "cell_type": "code",
   "execution_count": 1,
   "id": "57854495",
   "metadata": {},
   "outputs": [],
   "source": [
    "import cv2 as cv\n",
    "import numpy as np\n",
    "from time import time\n",
    "from PIL import ImageGrab # This is actually Pillow, but it's still imported as PIL. \n",
    "\n",
    "#import pyautogui # needs to be installed first\n",
    "#from mms import mms # needs to be installed first"
   ]
  },
  {
   "cell_type": "markdown",
   "id": "161125d2",
   "metadata": {},
   "source": [
    "### Main Loop \n",
    "\n",
    "#### With Pillow:"
   ]
  },
  {
   "cell_type": "code",
   "execution_count": 2,
   "id": "08348e13",
   "metadata": {},
   "outputs": [
    {
     "name": "stdout",
     "output_type": "stream",
     "text": [
      "FPS 13.523992545254048\n",
      "FPS 15.987375691344802\n",
      "FPS 19.14202131300915\n",
      "FPS 20.000305180437934\n",
      "FPS 19.726111923697367\n",
      "FPS 19.964034974987268\n",
      "FPS 20.377911439759796\n",
      "FPS 20.56616096733385\n",
      "FPS 19.73474361749179\n",
      "FPS 19.40612493233333\n",
      "FPS 11.902786764288551\n",
      "FPS 20.6368927835153\n",
      "FPS 20.099214107724745\n",
      "FPS 20.225404816325742\n",
      "FPS 20.064792047378944\n",
      "FPS 19.079674841127957\n",
      "FPS 20.32921834634716\n",
      "FPS 19.524918768445847\n",
      "FPS 19.331618778979195\n",
      "FPS 17.53295655954252\n",
      "FPS 15.88583029072674\n",
      "FPS 16.638253308368505\n",
      "FPS 20.794042844323698\n",
      "FPS 19.80631451696684\n",
      "FPS 20.69431958910395\n",
      "FPS 19.940401821794982\n",
      "FPS 19.36267530860778\n",
      "FPS 19.959949746830624\n",
      "FPS 17.894551815350486\n",
      "FPS 17.471462014612648\n",
      "FPS 19.57320988576122\n",
      "FPS 20.151262845859296\n",
      "FPS 19.100962720756332\n",
      "FPS 20.63435464509908\n",
      "FPS 20.008987649138206\n",
      "FPS 19.970879102565934\n",
      "FPS 21.8543254776705\n",
      "FPS 19.932536533206605\n",
      "FPS 20.11704837046452\n",
      "FPS 19.496239553022768\n",
      "FPS 20.458821922619165\n",
      "FPS 19.99153495643553\n",
      "FPS 18.629014563688933\n",
      "FPS 20.127474362604193\n",
      "FPS 19.750820536727552\n",
      "FPS 20.126025661941824\n",
      "FPS 20.28134580234616\n",
      "FPS 19.687870822380773\n",
      "FPS 19.094006355102746\n",
      "FPS 21.3314888747616\n",
      "FPS 20.033740602401583\n",
      "FPS 17.249294697275023\n",
      "FPS 17.068333496109645\n",
      "FPS 19.892170811754216\n",
      "FPS 18.42038831966763\n",
      "FPS 18.710371592987464\n",
      "FPS 14.294345384153988\n",
      "FPS 21.333224826940782\n",
      "FPS 23.678572839924353\n",
      "FPS 16.94661435711371\n",
      "FPS 17.305804492416364\n",
      "FPS 20.565152584921943\n",
      "FPS 19.939359077360436\n"
     ]
    }
   ],
   "source": [
    "prev_time = time()\n",
    "while(True):\n",
    "    #take the screenshot\n",
    "    img_pil = ImageGrab.grab(bbox = (0, 0, 200, 200))\n",
    "    #transform to an array and reshape it into a matrix for openCV\n",
    "    img_np = np.array(img_pil, dtype='uint8')\\\n",
    "    .reshape((img_pil.size[1], img_pil.size[0],3))\n",
    "    \n",
    "    img_np = cv.cvtColor(img_np, cv.COLOR_RGB2BGR)\n",
    "    \n",
    "    cv.imshow('window',img_np)\n",
    "    print('FPS {}'.format(1 / (time() - prev_time)))\n",
    "    prev_time = time()\n",
    "    if cv.waitKey(1) & 0xFF == ord('q'):\n",
    "        cv.destroyAllWindows()\n",
    "        break"
   ]
  },
  {
   "cell_type": "code",
   "execution_count": null,
   "id": "2de23ca9",
   "metadata": {},
   "outputs": [],
   "source": []
  }
 ],
 "metadata": {
  "kernelspec": {
   "display_name": "Python 3",
   "language": "python",
   "name": "python3"
  },
  "language_info": {
   "codemirror_mode": {
    "name": "ipython",
    "version": 3
   },
   "file_extension": ".py",
   "mimetype": "text/x-python",
   "name": "python",
   "nbconvert_exporter": "python",
   "pygments_lexer": "ipython3",
   "version": "3.8.5"
  }
 },
 "nbformat": 4,
 "nbformat_minor": 5
}
